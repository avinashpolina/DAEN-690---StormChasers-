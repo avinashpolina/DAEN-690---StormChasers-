{
 "cells": [
  {
   "cell_type": "code",
   "execution_count": 2,
   "id": "f16577d2-0ad8-4575-b908-0c94de71dfd9",
   "metadata": {},
   "outputs": [
    {
     "name": "stdout",
     "output_type": "stream",
     "text": [
      "Tables in database: [('weather_data',)]\n",
      "\n",
      "Sample data:\n",
      "      datetime  tempmax  tempmin  temp  humidity  precip state\n",
      "0  2010-01-01     51.2     34.4  43.8      69.9   0.044    AL\n",
      "1  2010-01-02     41.3     28.0  33.4      54.8   0.000    AL\n",
      "2  2010-01-03     40.5     24.6  30.3      47.0   0.000    AL\n",
      "3  2010-01-04     34.1     22.9  27.7      48.1   0.000    AL\n",
      "4  2010-01-05     37.7     18.1  27.1      48.3   0.000    AL\n"
     ]
    }
   ],
   "source": [
    "import pandas as pd\n",
    "import sqlite3\n",
    "\n",
    "# Step 1: Load the CSV\n",
    "csv_path = \"regional_data.csv\"\n",
    "df = pd.read_csv(csv_path)\n",
    "\n",
    "# Step 2: Create SQLite database\n",
    "db_path = \"regional_weather.db\"\n",
    "conn = sqlite3.connect(db_path)\n",
    "\n",
    "# Step 3: Store the DataFrame in a table\n",
    "df.to_sql(\"weather_data\", conn, if_exists=\"replace\", index=False)\n",
    "\n",
    "# Step 4: Confirm table creation\n",
    "cursor = conn.cursor()\n",
    "cursor.execute(\"SELECT name FROM sqlite_master WHERE type='table';\")\n",
    "print(\"Tables in database:\", cursor.fetchall())\n",
    "\n",
    "# Optional: Preview some rows\n",
    "print(\"\\nSample data:\\n\", df.head())\n",
    "\n",
    "# Close connection\n",
    "conn.close()"
   ]
  },
  {
   "cell_type": "code",
   "execution_count": 3,
   "id": "1e77dd10-d0ce-47ed-836d-a934eab5f14b",
   "metadata": {
    "scrolled": true
   },
   "outputs": [
    {
     "name": "stdout",
     "output_type": "stream",
     "text": [
      "Tables in database: [('emissions_data',)]\n",
      "\n",
      "Sample data:\n",
      "   country        date                  sector  MtCO2 per day\n",
      "0  Brazil  01/01/2023       Domestic Aviation       0.020074\n",
      "1  Brazil  01/01/2023        Ground Transport       0.231430\n",
      "2  Brazil  01/01/2023                Industry       0.238468\n",
      "3  Brazil  01/01/2023  International Aviation       0.013843\n",
      "4  Brazil  01/01/2023                   Power       0.085368\n"
     ]
    }
   ],
   "source": [
    "import pandas as pd\n",
    "import sqlite3\n",
    "\n",
    "# Step 1: Load the CSV\n",
    "csv_path = \"carbon_monitor_global.csv\"  # Replace with your actual CSV path\n",
    "df = pd.read_csv(csv_path)\n",
    "\n",
    "# Step 2: Create SQLite database\n",
    "db_path = \"emissions.db\"\n",
    "conn = sqlite3.connect(db_path)\n",
    "\n",
    "# Step 3: Store the DataFrame in a table\n",
    "df.to_sql(\"emissions_data\", conn, if_exists=\"replace\", index=False)\n",
    "\n",
    "# Step 4: Confirm table creation\n",
    "cursor = conn.cursor()\n",
    "cursor.execute(\"SELECT name FROM sqlite_master WHERE type='table';\")\n",
    "print(\"Tables in database:\", cursor.fetchall())\n",
    "\n",
    "# Optional: Preview some rows\n",
    "print(\"\\nSample data:\\n\", df.head())\n",
    "\n",
    "# Close connection\n",
    "conn.close()"
   ]
  },
  {
   "cell_type": "code",
   "execution_count": 4,
   "id": "bda186ca-bab5-4361-97d0-b6aba8362542",
   "metadata": {},
   "outputs": [
    {
     "name": "stderr",
     "output_type": "stream",
     "text": [
      "/var/folders/0n/68fb3qf10qq348m5c4_fqg2r0000gn/T/ipykernel_27086/1721661450.py:14: UserWarning: Could not infer format, so each element will be parsed individually, falling back to `dateutil`. To ensure parsing is consistent and as-expected, please specify a format.\n",
      "  converted = pd.to_datetime(df[col], errors='coerce')\n",
      "/var/folders/0n/68fb3qf10qq348m5c4_fqg2r0000gn/T/ipykernel_27086/1721661450.py:14: UserWarning: Could not infer format, so each element will be parsed individually, falling back to `dateutil`. To ensure parsing is consistent and as-expected, please specify a format.\n",
      "  converted = pd.to_datetime(df[col], errors='coerce')\n",
      "/var/folders/0n/68fb3qf10qq348m5c4_fqg2r0000gn/T/ipykernel_27086/1721661450.py:14: UserWarning: Could not infer format, so each element will be parsed individually, falling back to `dateutil`. To ensure parsing is consistent and as-expected, please specify a format.\n",
      "  converted = pd.to_datetime(df[col], errors='coerce')\n",
      "/var/folders/0n/68fb3qf10qq348m5c4_fqg2r0000gn/T/ipykernel_27086/1721661450.py:14: UserWarning: Could not infer format, so each element will be parsed individually, falling back to `dateutil`. To ensure parsing is consistent and as-expected, please specify a format.\n",
      "  converted = pd.to_datetime(df[col], errors='coerce')\n",
      "/var/folders/0n/68fb3qf10qq348m5c4_fqg2r0000gn/T/ipykernel_27086/1721661450.py:14: UserWarning: Could not infer format, so each element will be parsed individually, falling back to `dateutil`. To ensure parsing is consistent and as-expected, please specify a format.\n",
      "  converted = pd.to_datetime(df[col], errors='coerce')\n",
      "/var/folders/0n/68fb3qf10qq348m5c4_fqg2r0000gn/T/ipykernel_27086/1721661450.py:14: UserWarning: Could not infer format, so each element will be parsed individually, falling back to `dateutil`. To ensure parsing is consistent and as-expected, please specify a format.\n",
      "  converted = pd.to_datetime(df[col], errors='coerce')\n",
      "/var/folders/0n/68fb3qf10qq348m5c4_fqg2r0000gn/T/ipykernel_27086/1721661450.py:14: UserWarning: Could not infer format, so each element will be parsed individually, falling back to `dateutil`. To ensure parsing is consistent and as-expected, please specify a format.\n",
      "  converted = pd.to_datetime(df[col], errors='coerce')\n",
      "/var/folders/0n/68fb3qf10qq348m5c4_fqg2r0000gn/T/ipykernel_27086/1721661450.py:14: UserWarning: Could not infer format, so each element will be parsed individually, falling back to `dateutil`. To ensure parsing is consistent and as-expected, please specify a format.\n",
      "  converted = pd.to_datetime(df[col], errors='coerce')\n",
      "/var/folders/0n/68fb3qf10qq348m5c4_fqg2r0000gn/T/ipykernel_27086/1721661450.py:14: UserWarning: Could not infer format, so each element will be parsed individually, falling back to `dateutil`. To ensure parsing is consistent and as-expected, please specify a format.\n",
      "  converted = pd.to_datetime(df[col], errors='coerce')\n",
      "/var/folders/0n/68fb3qf10qq348m5c4_fqg2r0000gn/T/ipykernel_27086/1721661450.py:14: UserWarning: Could not infer format, so each element will be parsed individually, falling back to `dateutil`. To ensure parsing is consistent and as-expected, please specify a format.\n",
      "  converted = pd.to_datetime(df[col], errors='coerce')\n",
      "/var/folders/0n/68fb3qf10qq348m5c4_fqg2r0000gn/T/ipykernel_27086/1721661450.py:14: UserWarning: Could not infer format, so each element will be parsed individually, falling back to `dateutil`. To ensure parsing is consistent and as-expected, please specify a format.\n",
      "  converted = pd.to_datetime(df[col], errors='coerce')\n",
      "/var/folders/0n/68fb3qf10qq348m5c4_fqg2r0000gn/T/ipykernel_27086/1721661450.py:14: UserWarning: Could not infer format, so each element will be parsed individually, falling back to `dateutil`. To ensure parsing is consistent and as-expected, please specify a format.\n",
      "  converted = pd.to_datetime(df[col], errors='coerce')\n",
      "/var/folders/0n/68fb3qf10qq348m5c4_fqg2r0000gn/T/ipykernel_27086/1721661450.py:14: UserWarning: Could not infer format, so each element will be parsed individually, falling back to `dateutil`. To ensure parsing is consistent and as-expected, please specify a format.\n",
      "  converted = pd.to_datetime(df[col], errors='coerce')\n",
      "/var/folders/0n/68fb3qf10qq348m5c4_fqg2r0000gn/T/ipykernel_27086/1721661450.py:14: UserWarning: Could not infer format, so each element will be parsed individually, falling back to `dateutil`. To ensure parsing is consistent and as-expected, please specify a format.\n",
      "  converted = pd.to_datetime(df[col], errors='coerce')\n",
      "/var/folders/0n/68fb3qf10qq348m5c4_fqg2r0000gn/T/ipykernel_27086/1721661450.py:14: UserWarning: Could not infer format, so each element will be parsed individually, falling back to `dateutil`. To ensure parsing is consistent and as-expected, please specify a format.\n",
      "  converted = pd.to_datetime(df[col], errors='coerce')\n",
      "/var/folders/0n/68fb3qf10qq348m5c4_fqg2r0000gn/T/ipykernel_27086/1721661450.py:14: UserWarning: Could not infer format, so each element will be parsed individually, falling back to `dateutil`. To ensure parsing is consistent and as-expected, please specify a format.\n",
      "  converted = pd.to_datetime(df[col], errors='coerce')\n",
      "/var/folders/0n/68fb3qf10qq348m5c4_fqg2r0000gn/T/ipykernel_27086/1721661450.py:14: UserWarning: Could not infer format, so each element will be parsed individually, falling back to `dateutil`. To ensure parsing is consistent and as-expected, please specify a format.\n",
      "  converted = pd.to_datetime(df[col], errors='coerce')\n",
      "/var/folders/0n/68fb3qf10qq348m5c4_fqg2r0000gn/T/ipykernel_27086/1721661450.py:14: UserWarning: Could not infer format, so each element will be parsed individually, falling back to `dateutil`. To ensure parsing is consistent and as-expected, please specify a format.\n",
      "  converted = pd.to_datetime(df[col], errors='coerce')\n",
      "/var/folders/0n/68fb3qf10qq348m5c4_fqg2r0000gn/T/ipykernel_27086/1721661450.py:14: UserWarning: Could not infer format, so each element will be parsed individually, falling back to `dateutil`. To ensure parsing is consistent and as-expected, please specify a format.\n",
      "  converted = pd.to_datetime(df[col], errors='coerce')\n",
      "/var/folders/0n/68fb3qf10qq348m5c4_fqg2r0000gn/T/ipykernel_27086/1721661450.py:14: UserWarning: Could not infer format, so each element will be parsed individually, falling back to `dateutil`. To ensure parsing is consistent and as-expected, please specify a format.\n",
      "  converted = pd.to_datetime(df[col], errors='coerce')\n",
      "/var/folders/0n/68fb3qf10qq348m5c4_fqg2r0000gn/T/ipykernel_27086/1721661450.py:14: UserWarning: Could not infer format, so each element will be parsed individually, falling back to `dateutil`. To ensure parsing is consistent and as-expected, please specify a format.\n",
      "  converted = pd.to_datetime(df[col], errors='coerce')\n",
      "/var/folders/0n/68fb3qf10qq348m5c4_fqg2r0000gn/T/ipykernel_27086/1721661450.py:14: UserWarning: Could not infer format, so each element will be parsed individually, falling back to `dateutil`. To ensure parsing is consistent and as-expected, please specify a format.\n",
      "  converted = pd.to_datetime(df[col], errors='coerce')\n",
      "/var/folders/0n/68fb3qf10qq348m5c4_fqg2r0000gn/T/ipykernel_27086/1721661450.py:14: UserWarning: Could not infer format, so each element will be parsed individually, falling back to `dateutil`. To ensure parsing is consistent and as-expected, please specify a format.\n",
      "  converted = pd.to_datetime(df[col], errors='coerce')\n"
     ]
    },
    {
     "name": "stdout",
     "output_type": "stream",
     "text": [
      "ADB data saved to: adb_climate_financing.db\n"
     ]
    }
   ],
   "source": [
    "import pandas as pd\n",
    "import sqlite3\n",
    "import re\n",
    "\n",
    "# Paths to CSVs\n",
    "adb_csv = \"ADB Climate Change Financing_merged.csv\"\n",
    "adb_db_path = \"adb_climate_financing.db\"\n",
    "\n",
    "# --- Helper: convert date-like columns to YYYY-MM-DD ---\n",
    "def standardize_dates(df):\n",
    "    for col in df.columns:\n",
    "        if df[col].dtype == object:\n",
    "            try:\n",
    "                converted = pd.to_datetime(df[col], errors='coerce')\n",
    "                if converted.notna().sum() > 0:\n",
    "                    df[col] = converted.dt.strftime('%Y-%m-%d')\n",
    "            except Exception:\n",
    "                pass\n",
    "    return df\n",
    "\n",
    "# --- Helper: clean column names ---\n",
    "def clean_column(col):\n",
    "    col = re.sub(r\"\\([^)]*\\)\", \"\", col)             # remove content in parentheses\n",
    "    col = re.sub(r\"[^\\w\\s]\", \"\", col)               # remove special characters\n",
    "    col = re.sub(r\"\\s+\", \"_\", col.strip())          # replace spaces with underscores\n",
    "    col = re.sub(r\"_+\", \"_\", col)                   # collapse multiple underscores\n",
    "    col = col.rstrip(\"_\")                           # remove trailing underscore if any\n",
    "    if col == \"LoanGrantInvestmentApproval_Number\":\n",
    "        col = \"Approval_number\"                     # custom rename\n",
    "    return col\n",
    "\n",
    "# --- Load and clean ADB dataset ---\n",
    "adb_df = pd.read_csv(adb_csv)\n",
    "adb_df = standardize_dates(adb_df)\n",
    "\n",
    "\n",
    "# Clean and rename columns\n",
    "adb_cleaned.columns = [clean_column(col) for col in adb_cleaned.columns]\n",
    "\n",
    "# Save to SQLite\n",
    "adb_conn = sqlite3.connect(adb_db_path)\n",
    "adb_cleaned.to_sql(\"climate_financing\", adb_conn, index=False, if_exists=\"replace\")\n",
    "print(\"ADB data saved to:\", adb_db_path)\n",
    "adb_conn.close()"
   ]
  },
  {
   "cell_type": "code",
   "execution_count": 2,
   "id": "8168ac33-05d5-4313-bfba-988bf5ff33d8",
   "metadata": {},
   "outputs": [
    {
     "name": "stdout",
     "output_type": "stream",
     "text": [
      "Collecting pandas\n",
      "  Downloading pandas-2.2.3-cp310-cp310-macosx_11_0_arm64.whl.metadata (89 kB)\n",
      "Collecting numpy>=1.22.4 (from pandas)\n",
      "  Downloading numpy-2.2.4-cp310-cp310-macosx_14_0_arm64.whl.metadata (62 kB)\n",
      "Requirement already satisfied: python-dateutil>=2.8.2 in ./dean_env/lib/python3.10/site-packages (from pandas) (2.9.0.post0)\n",
      "Collecting pytz>=2020.1 (from pandas)\n",
      "  Downloading pytz-2025.2-py2.py3-none-any.whl.metadata (22 kB)\n",
      "Collecting tzdata>=2022.7 (from pandas)\n",
      "  Downloading tzdata-2025.2-py2.py3-none-any.whl.metadata (1.4 kB)\n",
      "Requirement already satisfied: six>=1.5 in ./dean_env/lib/python3.10/site-packages (from python-dateutil>=2.8.2->pandas) (1.17.0)\n",
      "Downloading pandas-2.2.3-cp310-cp310-macosx_11_0_arm64.whl (11.3 MB)\n",
      "\u001b[2K   \u001b[90m━━━━━━━━━━━━━━━━━━━━━━━━━━━━━━━━━━━━━━━━\u001b[0m \u001b[32m11.3/11.3 MB\u001b[0m \u001b[31m69.7 MB/s\u001b[0m eta \u001b[36m0:00:00\u001b[0m\n",
      "Downloading numpy-2.2.4-cp310-cp310-macosx_14_0_arm64.whl (5.4 MB)\n",
      "\u001b[2K   \u001b[90m━━━━━━━━━━━━━━━━━━━━━━━━━━━━━━━━━━━━━━━━\u001b[0m \u001b[32m5.4/5.4 MB\u001b[0m \u001b[31m89.3 MB/s\u001b[0m eta \u001b[36m0:00:00\u001b[0m\n",
      "\u001b[?25hDownloading pytz-2025.2-py2.py3-none-any.whl (509 kB)\n",
      "Downloading tzdata-2025.2-py2.py3-none-any.whl (347 kB)\n",
      "Installing collected packages: pytz, tzdata, numpy, pandas\n",
      "Successfully installed numpy-2.2.4 pandas-2.2.3 pytz-2025.2 tzdata-2025.2\n",
      "Note: you may need to restart the kernel to use updated packages.\n"
     ]
    }
   ],
   "source": [
    "pip install pandas"
   ]
  },
  {
   "cell_type": "code",
   "execution_count": null,
   "id": "9f00f9f2-9da0-4e67-a62a-860da6c6db6d",
   "metadata": {},
   "outputs": [],
   "source": []
  }
 ],
 "metadata": {
  "kernelspec": {
   "display_name": "Python 3 (ipykernel)",
   "language": "python",
   "name": "python3"
  },
  "language_info": {
   "codemirror_mode": {
    "name": "ipython",
    "version": 3
   },
   "file_extension": ".py",
   "mimetype": "text/x-python",
   "name": "python",
   "nbconvert_exporter": "python",
   "pygments_lexer": "ipython3",
   "version": "3.10.12"
  }
 },
 "nbformat": 4,
 "nbformat_minor": 5
}
